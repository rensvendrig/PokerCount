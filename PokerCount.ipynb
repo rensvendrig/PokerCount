{
 "cells": [
  {
   "cell_type": "code",
   "execution_count": 106,
   "id": "23ed6956",
   "metadata": {},
   "outputs": [
    {
     "name": "stdout",
     "output_type": "stream",
     "text": [
      "{'Bram': -2.65, 'Lukas': 5.65, 'Rens': 2.0, 'Brandt': 1.2, 'Mojet': -6.2}\n"
     ]
    },
    {
     "data": {
      "text/plain": [
       "{('Bram', 'betaalt', 'Lukas'): 2.65,\n",
       " ('Mojet', 'betaalt', 'Lukas'): 3.0,\n",
       " ('Mojet', 'betaalt', 'Rens'): 2.0,\n",
       " ('Mojet', 'betaalt', 'Brandt'): 1.2}"
      ]
     },
     "execution_count": 106,
     "metadata": {},
     "output_type": "execute_result"
    }
   ],
   "source": [
    "def calculate_winners(players_info, chip_values):\n",
    "    winners = {}\n",
    "    sum_buy_in = 0\n",
    "    \n",
    "    for player in players_info:\n",
    "        name = player[\"name\"]\n",
    "        buy_in = player[\"buy_in\"]\n",
    "        sum_buy_in += buy_in\n",
    "        end_score = sum([a*b for a,b in zip(player[\"end_score\"], chip_values)])\n",
    "        winnings = end_score - buy_in\n",
    "        winners[name] = round(winnings, 2)\n",
    "        \n",
    "    if sum(winners.values()) != 0:\n",
    "        print('Het totale win/loss getal komt niet uit op 0!')\n",
    "        dif_per_player = sum(winners.values())/len(players_info)        \n",
    "        winners  = {k: round(v - dif_per_player,2) for k, v in winners.items()}\n",
    "    \n",
    "    return winners\n",
    "\n",
    "def distribute_losses(players):\n",
    "    total_winnings = sum(players.values())\n",
    "        \n",
    "    losers = {k: v for k, v in players.items() if v < 0}\n",
    "    winners = {k: v for k, v in players.items() if v > 0}\n",
    "    total_losses = sum(losers.values()) * -1\n",
    "\n",
    "    payments = {}\n",
    "    for loser, loss in losers.items():\n",
    "        for winner in sorted(winners, key=lambda x: players[x], reverse=True):\n",
    "            if total_losses == 0:\n",
    "                break\n",
    "\n",
    "            payment = min(players[winner], loss * -1)\n",
    "            players[winner] -= payment\n",
    "            payments[(loser,'betaalt', winner)] = round(payment, 2)\n",
    "            total_losses -= payment\n",
    "            loss += payment\n",
    "\n",
    "            if players[winner] == 0:\n",
    "                del winners[winner]\n",
    "    \n",
    "    pay_wout_zeros = {k: v for k, v in payments.items() if v != 0.0 or v != -0.0 }\n",
    "    \n",
    "    return pay_wout_zeros\n",
    "\n",
    "\n",
    "chip_values = [0.05, 0.1, 0.2, 0.4, 1.0]\n",
    "\n",
    "players = [{\"name\": \"Bram\", \"buy_in\": 10, \"end_score\": [21,3,4,3,4]},\n",
    "           {\"name\": \"Lukas\", \"buy_in\": 10, \"end_score\": [21,22,12,15,4]},\n",
    "           {\"name\": \"Rens\", \"buy_in\": 10, \"end_score\": [8, 20, 11, 6, 5]},\n",
    "            {\"name\": \"Brandt\", \"buy_in\": 10, \"end_score\": [16, 4, 17, 9, 3]},\n",
    "           {\"name\": \"Mojet\", \"buy_in\": 10, \"end_score\": [2, 7, 10, 0, 1]}]\n",
    "\n",
    "winnings_losses = calculate_winners(players, chip_values)\n",
    "print(winnings_losses)\n",
    "distribute_losses(winnings_losses)"
   ]
  },
  {
   "cell_type": "code",
   "execution_count": null,
   "id": "d2ef6b50",
   "metadata": {},
   "outputs": [],
   "source": []
  },
  {
   "cell_type": "code",
   "execution_count": null,
   "id": "6409176e",
   "metadata": {},
   "outputs": [],
   "source": []
  },
  {
   "cell_type": "code",
   "execution_count": null,
   "id": "2f688e7d",
   "metadata": {},
   "outputs": [],
   "source": []
  },
  {
   "cell_type": "code",
   "execution_count": null,
   "id": "aa6d0cfc",
   "metadata": {},
   "outputs": [],
   "source": []
  }
 ],
 "metadata": {
  "kernelspec": {
   "display_name": "Python 3 (ipykernel)",
   "language": "python",
   "name": "python3"
  },
  "language_info": {
   "codemirror_mode": {
    "name": "ipython",
    "version": 3
   },
   "file_extension": ".py",
   "mimetype": "text/x-python",
   "name": "python",
   "nbconvert_exporter": "python",
   "pygments_lexer": "ipython3",
   "version": "3.9.13"
  }
 },
 "nbformat": 4,
 "nbformat_minor": 5
}
